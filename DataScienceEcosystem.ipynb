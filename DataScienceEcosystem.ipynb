{
 "cells": [
  {
   "cell_type": "markdown",
   "id": "2252952a-4471-4d34-aeb0-ae8146b78cc1",
   "metadata": {},
   "source": [
    "# Data Science Tools and Ecosystem"
   ]
  },
  {
   "cell_type": "markdown",
   "id": "c881f5d6-6794-4094-ae9f-4a7a8bf749c2",
   "metadata": {},
   "source": [
    "In this notebook, Data Science Tools and Ecosystem are summarized."
   ]
  },
  {
   "cell_type": "markdown",
   "id": "ecb76175-a75d-4aa9-97f6-41e83d27c265",
   "metadata": {},
   "source": [
    "*Objectives:*\n",
    "\n",
    "- Python\n",
    "- R\n",
    "- C++\n",
    "- Java\n",
    "- Julia"
   ]
  },
  {
   "cell_type": "markdown",
   "id": "a1dea7c0-37cd-4c08-9a49-08ee29e5cdef",
   "metadata": {},
   "source": [
    "Some of the popular languages that Data Scientists use are:\n",
    "\n",
    "1. Python\n",
    "2. R\n",
    "3. C++"
   ]
  },
  {
   "cell_type": "markdown",
   "id": "ab9a8d89-2217-4ab4-a761-83df9399cf95",
   "metadata": {},
   "source": [
    "Some of the commonly used libraries used by Data Scientists include:\n",
    "\n",
    "1. Pandas\n",
    "2. Numpy\n",
    "3. Matplotlib\n",
    "4. TensorFlow\n",
    "5. Scikit-learn"
   ]
  },
  {
   "cell_type": "markdown",
   "id": "19eb53cd-5d83-4d73-a982-1d1b36049f35",
   "metadata": {},
   "source": [
    "| Data Science Tools |\n",
    "|--------------------|\n",
    "| Jupyter Notebooks |\n",
    "| R Studio |\n",
    "| Zeppelin Notebooks |"
   ]
  },
  {
   "cell_type": "markdown",
   "id": "a8166216-8749-4b30-bc9e-7885de2a344b",
   "metadata": {},
   "source": [
    "### Below are some examples of arithmetic expression using Python"
   ]
  },
  {
   "cell_type": "markdown",
   "id": "763b2bbe-7877-4a0c-ba0a-7502d6435fdf",
   "metadata": {},
   "source": [
    "This is a simple arithmetic expression to multiply then add integers:"
   ]
  },
  {
   "cell_type": "code",
   "execution_count": 1,
   "id": "853004c1-7211-4d80-984e-18953cd57bf1",
   "metadata": {},
   "outputs": [
    {
     "data": {
      "text/plain": [
       "17"
      ]
     },
     "execution_count": 1,
     "metadata": {},
     "output_type": "execute_result"
    }
   ],
   "source": [
    "(3*4)+5"
   ]
  },
  {
   "cell_type": "markdown",
   "id": "1d224718-72e8-40c1-9424-fcbcc0857b81",
   "metadata": {},
   "source": [
    "This will convert 200 minutes to hours by dividing by 60:"
   ]
  },
  {
   "cell_type": "code",
   "execution_count": 1,
   "id": "2fe08a8d-28ee-464c-a691-362c860137ec",
   "metadata": {},
   "outputs": [
    {
     "data": {
      "text/plain": [
       "3.3333333333333335"
      ]
     },
     "execution_count": 1,
     "metadata": {},
     "output_type": "execute_result"
    }
   ],
   "source": [
    " 200/60"
   ]
  },
  {
   "cell_type": "markdown",
   "id": "d7a833b0-46ba-43db-be6b-697e09c0d146",
   "metadata": {},
   "source": [
    "## Author\n",
    "Alejandro Gil"
   ]
  }
 ],
 "metadata": {
  "kernelspec": {
   "display_name": "Python 3 (ipykernel)",
   "language": "python",
   "name": "python3"
  },
  "language_info": {
   "codemirror_mode": {
    "name": "ipython",
    "version": 3
   },
   "file_extension": ".py",
   "mimetype": "text/x-python",
   "name": "python",
   "nbconvert_exporter": "python",
   "pygments_lexer": "ipython3",
   "version": "3.11.5"
  }
 },
 "nbformat": 4,
 "nbformat_minor": 5
}
